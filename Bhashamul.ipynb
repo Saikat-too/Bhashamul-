{
  "metadata": {
    "kernelspec": {
      "display_name": "Python 3",
      "language": "python",
      "name": "python3"
    },
    "language_info": {
      "name": "python",
      "version": "3.10.13",
      "mimetype": "text/x-python",
      "codemirror_mode": {
        "name": "ipython",
        "version": 3
      },
      "pygments_lexer": "ipython3",
      "nbconvert_exporter": "python",
      "file_extension": ".py"
    },
    "papermill": {
      "default_parameters": {},
      "duration": 11361.970147,
      "end_time": "2023-10-14T02:02:40.706781",
      "environment_variables": {},
      "exception": null,
      "input_path": "__notebook__.ipynb",
      "output_path": "__notebook__.ipynb",
      "parameters": {},
      "start_time": "2023-10-13T22:53:18.736634",
      "version": "2.4.0"
    },
    "widgets": {
      "application/vnd.jupyter.widget-state+json": {}
    },
    "kaggle": {
      "accelerator": "gpu",
      "dataSources": [
        {
          "sourceId": 70573,
          "databundleVersionId": 7731483,
          "sourceType": "competition"
        }
      ],
      "dockerImageVersionId": 30648,
      "isInternetEnabled": true,
      "language": "python",
      "sourceType": "notebook",
      "isGpuEnabled": true
    },
    "colab": {
      "name": "Bhashamul ",
      "provenance": [],
      "include_colab_link": true
    }
  },
  "nbformat_minor": 0,
  "nbformat": 4,
  "cells": [
    {
      "cell_type": "markdown",
      "metadata": {
        "id": "view-in-github",
        "colab_type": "text"
      },
      "source": [
        "<a href=\"https://colab.research.google.com/github/Saikat-too/Bhashamul-/blob/main/Bhashamul.ipynb\" target=\"_parent\"><img src=\"https://colab.research.google.com/assets/colab-badge.svg\" alt=\"Open In Colab\"/></a>"
      ]
    },
    {
      "source": [
        "\n",
        "# IMPORTANT: RUN THIS CELL IN ORDER TO IMPORT YOUR KAGGLE DATA SOURCES\n",
        "# TO THE CORRECT LOCATION (/kaggle/input) IN YOUR NOTEBOOK,\n",
        "# THEN FEEL FREE TO DELETE THIS CELL.\n",
        "# NOTE: THIS NOTEBOOK ENVIRONMENT DIFFERS FROM KAGGLE'S PYTHON\n",
        "# ENVIRONMENT SO THERE MAY BE MISSING LIBRARIES USED BY YOUR\n",
        "# NOTEBOOK.\n",
        "\n",
        "import os\n",
        "import sys\n",
        "from tempfile import NamedTemporaryFile\n",
        "from urllib.request import urlopen\n",
        "from urllib.parse import unquote, urlparse\n",
        "from urllib.error import HTTPError\n",
        "from zipfile import ZipFile\n",
        "import tarfile\n",
        "import shutil\n",
        "\n",
        "CHUNK_SIZE = 40960\n",
        "DATA_SOURCE_MAPPING = 'regipa:https%3A%2F%2Fstorage.googleapis.com%2Fkaggle-competitions-data%2Fkaggle-v2%2F70573%2F7731483%2Fbundle%2Farchive.zip%3FX-Goog-Algorithm%3DGOOG4-RSA-SHA256%26X-Goog-Credential%3Dgcp-kaggle-com%2540kaggle-161607.iam.gserviceaccount.com%252F20240218%252Fauto%252Fstorage%252Fgoog4_request%26X-Goog-Date%3D20240218T013423Z%26X-Goog-Expires%3D259200%26X-Goog-SignedHeaders%3Dhost%26X-Goog-Signature%3D64a74983654010caf802e80129258b189bd4cf778a10fe14654bfd9f4dfe0b5a7d80b6ba95a1436eef749bb209dab1d0dd72c0e566af1b007fcabf99273bc3662f4286fdd94d45c153513e481c25e60e12692196ddb11f4d4b688acd3d47da37a769b6bd6f9b579062aa322082c26c6c7beb8c1e246aff180b1ff3422c6b8d0d8cabcdf325f7fa3e38540d7c8da6df1bb947e94c58bb74d5957704549763514f605a16623024264dd1e153116205b7fcd9fd7855f3d7f64a74ff525a3fed06afdf2dfd48908b4141d9af804505e3e0bb223b0614ff688034d753de01c5f780e5f4ca96460ed2a7acb06c95539c047158a2e0d8e26013faa86a2182569e99d3f3'\n",
        "\n",
        "KAGGLE_INPUT_PATH='/kaggle/input'\n",
        "KAGGLE_WORKING_PATH='/kaggle/working'\n",
        "KAGGLE_SYMLINK='kaggle'\n",
        "\n",
        "!umount /kaggle/input/ 2> /dev/null\n",
        "shutil.rmtree('/kaggle/input', ignore_errors=True)\n",
        "os.makedirs(KAGGLE_INPUT_PATH, 0o777, exist_ok=True)\n",
        "os.makedirs(KAGGLE_WORKING_PATH, 0o777, exist_ok=True)\n",
        "\n",
        "try:\n",
        "  os.symlink(KAGGLE_INPUT_PATH, os.path.join(\"..\", 'input'), target_is_directory=True)\n",
        "except FileExistsError:\n",
        "  pass\n",
        "try:\n",
        "  os.symlink(KAGGLE_WORKING_PATH, os.path.join(\"..\", 'working'), target_is_directory=True)\n",
        "except FileExistsError:\n",
        "  pass\n",
        "\n",
        "for data_source_mapping in DATA_SOURCE_MAPPING.split(','):\n",
        "    directory, download_url_encoded = data_source_mapping.split(':')\n",
        "    download_url = unquote(download_url_encoded)\n",
        "    filename = urlparse(download_url).path\n",
        "    destination_path = os.path.join(KAGGLE_INPUT_PATH, directory)\n",
        "    try:\n",
        "        with urlopen(download_url) as fileres, NamedTemporaryFile() as tfile:\n",
        "            total_length = fileres.headers['content-length']\n",
        "            print(f'Downloading {directory}, {total_length} bytes compressed')\n",
        "            dl = 0\n",
        "            data = fileres.read(CHUNK_SIZE)\n",
        "            while len(data) > 0:\n",
        "                dl += len(data)\n",
        "                tfile.write(data)\n",
        "                done = int(50 * dl / int(total_length))\n",
        "                sys.stdout.write(f\"\\r[{'=' * done}{' ' * (50-done)}] {dl} bytes downloaded\")\n",
        "                sys.stdout.flush()\n",
        "                data = fileres.read(CHUNK_SIZE)\n",
        "            if filename.endswith('.zip'):\n",
        "              with ZipFile(tfile) as zfile:\n",
        "                zfile.extractall(destination_path)\n",
        "            else:\n",
        "              with tarfile.open(tfile.name) as tarfile:\n",
        "                tarfile.extractall(destination_path)\n",
        "            print(f'\\nDownloaded and uncompressed: {directory}')\n",
        "    except HTTPError as e:\n",
        "        print(f'Failed to load (likely expired) {download_url} to path {destination_path}')\n",
        "        continue\n",
        "    except OSError as e:\n",
        "        print(f'Failed to load {download_url} to path {destination_path}')\n",
        "        continue\n",
        "\n",
        "print('Data source import complete.')\n"
      ],
      "metadata": {
        "id": "Gfu3tbRy2iX0"
      },
      "cell_type": "code",
      "outputs": [],
      "execution_count": null
    },
    {
      "cell_type": "markdown",
      "source": [
        "<h2>this notebook is Inspire from</h2> <a href=\"https://www.kaggle.com/code/umongsain/bangla-text-to-ipa-eda-training-inference\"> <h2>here</h2> </a>"
      ],
      "metadata": {
        "id": "vthxQyaG2iX4"
      }
    },
    {
      "cell_type": "markdown",
      "source": [
        "# Introduction\n",
        "\n",
        "Hello, everyone! Welcome to this competition focusing on **Bengali text to IPA (International Phonetic Alphabet) transcription**. A big thanks to the organizers for putting together such an interesting competition, especially given the limited work that has been done in this field. Let's delve into understanding the challenges at hand.\n",
        "\n",
        "## What is IPA?\n",
        "According to [Wikipedia](https://en.wikipedia.org/wiki/International_Phonetic_Alphabet):\n",
        "> The International Phonetic Alphabet (IPA) is an alphabetic system of phonetic notation primarily based on the Latin script. It was devised by the International Phonetic Association in the late 19th century as a standardized representation of speech sounds in written form. The IPA is widely used by lexicographers, foreign language students and teachers, linguists, speech–language pathologists, singers, actors, constructed language creators, and translators.\n",
        "\n",
        "IPA serves as a phonetic notation system, utilizing symbols to represent each distinct sound found in human spoken language. Its scope encompasses all languages spoken on Earth. Here is the IPA chart:\n",
        "\n",
        "![image.png](attachment:8bbcc784-c1b0-4f77-b81a-df1fefbaa571.png)\n",
        "\n",
        "## Why should we care about the problem?\n",
        "\n",
        "One crucial application of systems like these is in text-to-speech (TTS) systems. While modern TTS synthesis models can learn pronunciations from raw text input and corresponding audio data, relying solely on text input during training often leads to inaccurate pronunciations. Consequently, many TTS systems utilize phonetic input during training to directly address and correct pronunciations at inference time. Text-to-phoneme systems empower users to ensure the desired pronunciation by providing a phonetic transcript of the input. Moreover, employing a unified phoneme system will facilitate the development of multilingual TTS models out of the box."
      ],
      "metadata": {
        "papermill": {
          "duration": 0.013234,
          "end_time": "2023-10-13T22:53:21.698164",
          "exception": false,
          "start_time": "2023-10-13T22:53:21.68493",
          "status": "completed"
        },
        "tags": [],
        "id": "glIp8E3w2iX5"
      }
    },
    {
      "cell_type": "markdown",
      "source": [
        "# EDA (Exploratory Data Analysis)\n",
        "\n",
        "Before diving into model training, let's conduct a comprehensive analysis of the data."
      ],
      "metadata": {
        "papermill": {
          "duration": 0.012857,
          "end_time": "2023-10-13T22:53:21.723848",
          "exception": false,
          "start_time": "2023-10-13T22:53:21.710991",
          "status": "completed"
        },
        "tags": [],
        "id": "EZjCHLlz2iX6"
      }
    },
    {
      "cell_type": "code",
      "source": [
        "import pandas as pd\n",
        "import seaborn as sns\n",
        "import matplotlib.pyplot as plt\n",
        "train_df = pd.read_csv(\"/kaggle/input/regipa/train_regipa.csv\")\n",
        "test_df = pd.read_csv(\"/kaggle/input/regipa/test_regipa.csv\", index_col=\"Index\")"
      ],
      "metadata": {
        "papermill": {
          "duration": 2.018621,
          "end_time": "2023-10-13T22:53:23.755288",
          "exception": false,
          "start_time": "2023-10-13T22:53:21.736667",
          "status": "completed"
        },
        "tags": [],
        "execution": {
          "iopub.status.busy": "2024-02-17T09:17:52.73951Z",
          "iopub.execute_input": "2024-02-17T09:17:52.740324Z",
          "iopub.status.idle": "2024-02-17T09:17:52.918828Z",
          "shell.execute_reply.started": "2024-02-17T09:17:52.740284Z",
          "shell.execute_reply": "2024-02-17T09:17:52.917731Z"
        },
        "trusted": true,
        "id": "ONBBOQoq2iX6"
      },
      "execution_count": null,
      "outputs": []
    },
    {
      "cell_type": "code",
      "source": [
        "train_df.head()"
      ],
      "metadata": {
        "execution": {
          "iopub.status.busy": "2024-02-17T09:28:59.585953Z",
          "iopub.execute_input": "2024-02-17T09:28:59.586408Z",
          "iopub.status.idle": "2024-02-17T09:28:59.597982Z",
          "shell.execute_reply.started": "2024-02-17T09:28:59.586378Z",
          "shell.execute_reply": "2024-02-17T09:28:59.596945Z"
        },
        "trusted": true,
        "id": "Y7ssD5-s2iX6",
        "outputId": "f04fe11d-7eb9-469a-fda0-fd16ccceab05"
      },
      "execution_count": null,
      "outputs": [
        {
          "execution_count": 25,
          "output_type": "execute_result",
          "data": {
            "text/plain": "      Index District                                           Contents  \\\n0   rng_384  Rangpur                   মুই কেনা কাজলি মাছ খাবার পাঙ না।   \n1  tng_2261  Tangail                           চোইদ্দখানে ওয়াইল্লা করে।   \n2  nrl_2592   Narail  ওদিকি ঘটনা, ছোটো বোউনাইডা মনে অরো ব্যাকাপ দিয়ে...   \n3  rng_4162  Rangpur  হামার সময়ে প্রাইভেটের কতা যদি কছিনো, তে মাস্টা...   \n4  nrl_1129   Narail    পঁইত্রিশশো বোত্রিশশো টাহা যদি পত্তেক মাসে লাগে।   \n\n                                                 IPA  \n0              mu͡ɪ̯ kenɐ kɐɟolɪ mɐcʰ kʰɐbɐɾ pɐŋ nɐ।  \n1                    co͡ɪ̯d̪d̪okʰɐne oʷɐ͡ɪ̯llɐ koɾe।  \n2  od̪ɪkɪ gʱɔtonɐ, cʰoto bo͡u̯nɐ͡ɪ̯dɐ mone ɔɾo bɛ...  \n3  hɐmɐɾ ʃɔmɔʲe pɾɐ͡ɪ̯bʱeteɾ kɔt̪ɐ ɟod̪ɪ kocʰɪno,...  \n4  põɪt̪ɾɪʃʃo bot̪ɾɪʃʃo tɐhɐ ɟod̪ɪ pɔt̪t̪ek mɐʃe...  ",
            "text/html": "<div>\n<style scoped>\n    .dataframe tbody tr th:only-of-type {\n        vertical-align: middle;\n    }\n\n    .dataframe tbody tr th {\n        vertical-align: top;\n    }\n\n    .dataframe thead th {\n        text-align: right;\n    }\n</style>\n<table border=\"1\" class=\"dataframe\">\n  <thead>\n    <tr style=\"text-align: right;\">\n      <th></th>\n      <th>Index</th>\n      <th>District</th>\n      <th>Contents</th>\n      <th>IPA</th>\n    </tr>\n  </thead>\n  <tbody>\n    <tr>\n      <th>0</th>\n      <td>rng_384</td>\n      <td>Rangpur</td>\n      <td>মুই কেনা কাজলি মাছ খাবার পাঙ না।</td>\n      <td>mu͡ɪ̯ kenɐ kɐɟolɪ mɐcʰ kʰɐbɐɾ pɐŋ nɐ।</td>\n    </tr>\n    <tr>\n      <th>1</th>\n      <td>tng_2261</td>\n      <td>Tangail</td>\n      <td>চোইদ্দখানে ওয়াইল্লা করে।</td>\n      <td>co͡ɪ̯d̪d̪okʰɐne oʷɐ͡ɪ̯llɐ koɾe।</td>\n    </tr>\n    <tr>\n      <th>2</th>\n      <td>nrl_2592</td>\n      <td>Narail</td>\n      <td>ওদিকি ঘটনা, ছোটো বোউনাইডা মনে অরো ব্যাকাপ দিয়ে...</td>\n      <td>od̪ɪkɪ gʱɔtonɐ, cʰoto bo͡u̯nɐ͡ɪ̯dɐ mone ɔɾo bɛ...</td>\n    </tr>\n    <tr>\n      <th>3</th>\n      <td>rng_4162</td>\n      <td>Rangpur</td>\n      <td>হামার সময়ে প্রাইভেটের কতা যদি কছিনো, তে মাস্টা...</td>\n      <td>hɐmɐɾ ʃɔmɔʲe pɾɐ͡ɪ̯bʱeteɾ kɔt̪ɐ ɟod̪ɪ kocʰɪno,...</td>\n    </tr>\n    <tr>\n      <th>4</th>\n      <td>nrl_1129</td>\n      <td>Narail</td>\n      <td>পঁইত্রিশশো বোত্রিশশো টাহা যদি পত্তেক মাসে লাগে।</td>\n      <td>põɪt̪ɾɪʃʃo bot̪ɾɪʃʃo tɐhɐ ɟod̪ɪ pɔt̪t̪ek mɐʃe...</td>\n    </tr>\n  </tbody>\n</table>\n</div>"
          },
          "metadata": {}
        }
      ]
    },
    {
      "cell_type": "code",
      "source": [
        "test_df.head()"
      ],
      "metadata": {
        "execution": {
          "iopub.status.busy": "2024-02-17T09:17:52.938105Z",
          "iopub.execute_input": "2024-02-17T09:17:52.938401Z",
          "iopub.status.idle": "2024-02-17T09:17:52.948119Z",
          "shell.execute_reply.started": "2024-02-17T09:17:52.938375Z",
          "shell.execute_reply": "2024-02-17T09:17:52.947066Z"
        },
        "trusted": true,
        "id": "XHM7n9MC2iX8",
        "outputId": "f2320238-3c8d-491e-947c-cccf02366a4b"
      },
      "execution_count": null,
      "outputs": [
        {
          "execution_count": 5,
          "output_type": "execute_result",
          "data": {
            "text/plain": "      District                                           Contents\nIndex                                                            \n0      Rangpur           এলা সবায় সবার  হাতোত <> অসহায় মানুষ আচে?\n1      Rangpur                                  কেউ কারো ইয়া নাই।\n2      Rangpur  এলা ওই যে, কাইলকা ব্যাটায় ইপতারি আনচে, খাইচোং,...\n3      Rangpur                             আর মুই আগোত কী করচিনু?\n4      Rangpur                      <> আগের কতা বাদ দেও, এলা নাই।",
            "text/html": "<div>\n<style scoped>\n    .dataframe tbody tr th:only-of-type {\n        vertical-align: middle;\n    }\n\n    .dataframe tbody tr th {\n        vertical-align: top;\n    }\n\n    .dataframe thead th {\n        text-align: right;\n    }\n</style>\n<table border=\"1\" class=\"dataframe\">\n  <thead>\n    <tr style=\"text-align: right;\">\n      <th></th>\n      <th>District</th>\n      <th>Contents</th>\n    </tr>\n    <tr>\n      <th>Index</th>\n      <th></th>\n      <th></th>\n    </tr>\n  </thead>\n  <tbody>\n    <tr>\n      <th>0</th>\n      <td>Rangpur</td>\n      <td>এলা সবায় সবার  হাতোত &lt;&gt; অসহায় মানুষ আচে?</td>\n    </tr>\n    <tr>\n      <th>1</th>\n      <td>Rangpur</td>\n      <td>কেউ কারো ইয়া নাই।</td>\n    </tr>\n    <tr>\n      <th>2</th>\n      <td>Rangpur</td>\n      <td>এলা ওই যে, কাইলকা ব্যাটায় ইপতারি আনচে, খাইচোং,...</td>\n    </tr>\n    <tr>\n      <th>3</th>\n      <td>Rangpur</td>\n      <td>আর মুই আগোত কী করচিনু?</td>\n    </tr>\n    <tr>\n      <th>4</th>\n      <td>Rangpur</td>\n      <td>&lt;&gt; আগের কতা বাদ দেও, এলা নাই।</td>\n    </tr>\n  </tbody>\n</table>\n</div>"
          },
          "metadata": {}
        }
      ]
    },
    {
      "cell_type": "code",
      "source": [
        "train_df.dropna(inplace=True)\n",
        "test_df.dropna(inplace=True)"
      ],
      "metadata": {
        "execution": {
          "iopub.status.busy": "2024-02-17T09:17:52.950824Z",
          "iopub.execute_input": "2024-02-17T09:17:52.951178Z",
          "iopub.status.idle": "2024-02-17T09:17:52.977543Z",
          "shell.execute_reply.started": "2024-02-17T09:17:52.951153Z",
          "shell.execute_reply": "2024-02-17T09:17:52.976384Z"
        },
        "trusted": true,
        "id": "6HT75M402iX8"
      },
      "execution_count": null,
      "outputs": []
    },
    {
      "cell_type": "code",
      "source": [
        "\n",
        "print(\"Total number of training samples:\", len(train_df))\n",
        "print(\"Total number of test samples:\", len(test_df))"
      ],
      "metadata": {
        "execution": {
          "iopub.status.busy": "2024-02-17T09:17:52.978922Z",
          "iopub.execute_input": "2024-02-17T09:17:52.979263Z",
          "iopub.status.idle": "2024-02-17T09:17:52.984689Z",
          "shell.execute_reply.started": "2024-02-17T09:17:52.979234Z",
          "shell.execute_reply": "2024-02-17T09:17:52.983585Z"
        },
        "trusted": true,
        "id": "Y9dMV1eu2iX8",
        "outputId": "74e405d1-6e8b-4e67-9f6d-a716b59b049e"
      },
      "execution_count": null,
      "outputs": [
        {
          "name": "stdout",
          "text": "Total number of training samples: 25549\nTotal number of test samples: 8941\n",
          "output_type": "stream"
        }
      ]
    },
    {
      "cell_type": "markdown",
      "source": [
        "The number of test samples is approximately **1.25 times** that of the number of training samples!"
      ],
      "metadata": {
        "papermill": {
          "duration": 0.013237,
          "end_time": "2023-10-13T22:53:23.781604",
          "exception": false,
          "start_time": "2023-10-13T22:53:23.768367",
          "status": "completed"
        },
        "tags": [],
        "id": "hvStRjkg2iX9"
      }
    },
    {
      "cell_type": "code",
      "source": [
        "train_df.head()"
      ],
      "metadata": {
        "papermill": {
          "duration": 0.027829,
          "end_time": "2023-10-13T22:53:23.824114",
          "exception": false,
          "start_time": "2023-10-13T22:53:23.796285",
          "status": "completed"
        },
        "tags": [],
        "execution": {
          "iopub.status.busy": "2024-02-17T09:17:52.985921Z",
          "iopub.execute_input": "2024-02-17T09:17:52.986279Z",
          "iopub.status.idle": "2024-02-17T09:17:53.00579Z",
          "shell.execute_reply.started": "2024-02-17T09:17:52.986252Z",
          "shell.execute_reply": "2024-02-17T09:17:53.004731Z"
        },
        "trusted": true,
        "id": "gawXKBTC2iX9",
        "outputId": "a5c5042a-d001-4dfb-82be-a904a66fea53"
      },
      "execution_count": null,
      "outputs": [
        {
          "execution_count": 8,
          "output_type": "execute_result",
          "data": {
            "text/plain": "   Index District                                           Contents  \\\n0  rng_0  Rangpur  লেখিয়্যা, কালি দিয়্যা, সেই সুন্দর করিয়া, এখন স...   \n1  rng_1  Rangpur                        হ, একটা ফিল্ডিং গ্রুপ ছিলো।   \n2  rng_2  Rangpur  হ, ওরে কতা <> বুজচি বিষয়টা, ওয় তো এখনও বেরাজিল...   \n3  rng_3  Rangpur  সিডায়, ওই সমায় আমরা ওই কানির রুমটাত যকন আছনো এ...   \n4  rng_4  Rangpur  যকন কী ইয়্যা হইছিল, ওই যে সুমন আর হইলো আলম <> ...   \n\n                                                 IPA  \n0  lekʰɪʲt̪ɐ, kɐlɪ d̪ɪkt̪ɐ, ʃe͡ɪ̯ ʃund̪ɔɾ koɾɪʲɐ,...  \n1                       ho, ɛktɐ pʰɪldɪŋ gɾup cʰɪlo।  \n2  ho, oɾe kɔt̪ɐ <> buɟcɪ bɪʃɔʲtɐ, oe̯ t̪o ɛkʰono...  \n3  ʃɪdɐe̯, o͡ɪ̯ ʃɔmɐe̯ ɐmɾɐ o͡ɪ̯ kɐnɪɾ ɾumtɐt̪ ɟɔ...  \n4  ɟɔkon kɪ ɪʲlɐ ho͡ɪ̯cʰɪlo, o͡ɪ̯ ɟe ʃumɔn ɐɾ ho͡...  ",
            "text/html": "<div>\n<style scoped>\n    .dataframe tbody tr th:only-of-type {\n        vertical-align: middle;\n    }\n\n    .dataframe tbody tr th {\n        vertical-align: top;\n    }\n\n    .dataframe thead th {\n        text-align: right;\n    }\n</style>\n<table border=\"1\" class=\"dataframe\">\n  <thead>\n    <tr style=\"text-align: right;\">\n      <th></th>\n      <th>Index</th>\n      <th>District</th>\n      <th>Contents</th>\n      <th>IPA</th>\n    </tr>\n  </thead>\n  <tbody>\n    <tr>\n      <th>0</th>\n      <td>rng_0</td>\n      <td>Rangpur</td>\n      <td>লেখিয়্যা, কালি দিয়্যা, সেই সুন্দর করিয়া, এখন স...</td>\n      <td>lekʰɪʲt̪ɐ, kɐlɪ d̪ɪkt̪ɐ, ʃe͡ɪ̯ ʃund̪ɔɾ koɾɪʲɐ,...</td>\n    </tr>\n    <tr>\n      <th>1</th>\n      <td>rng_1</td>\n      <td>Rangpur</td>\n      <td>হ, একটা ফিল্ডিং গ্রুপ ছিলো।</td>\n      <td>ho, ɛktɐ pʰɪldɪŋ gɾup cʰɪlo।</td>\n    </tr>\n    <tr>\n      <th>2</th>\n      <td>rng_2</td>\n      <td>Rangpur</td>\n      <td>হ, ওরে কতা &lt;&gt; বুজচি বিষয়টা, ওয় তো এখনও বেরাজিল...</td>\n      <td>ho, oɾe kɔt̪ɐ &lt;&gt; buɟcɪ bɪʃɔʲtɐ, oe̯ t̪o ɛkʰono...</td>\n    </tr>\n    <tr>\n      <th>3</th>\n      <td>rng_3</td>\n      <td>Rangpur</td>\n      <td>সিডায়, ওই সমায় আমরা ওই কানির রুমটাত যকন আছনো এ...</td>\n      <td>ʃɪdɐe̯, o͡ɪ̯ ʃɔmɐe̯ ɐmɾɐ o͡ɪ̯ kɐnɪɾ ɾumtɐt̪ ɟɔ...</td>\n    </tr>\n    <tr>\n      <th>4</th>\n      <td>rng_4</td>\n      <td>Rangpur</td>\n      <td>যকন কী ইয়্যা হইছিল, ওই যে সুমন আর হইলো আলম &lt;&gt; ...</td>\n      <td>ɟɔkon kɪ ɪʲlɐ ho͡ɪ̯cʰɪlo, o͡ɪ̯ ɟe ʃumɔn ɐɾ ho͡...</td>\n    </tr>\n  </tbody>\n</table>\n</div>"
          },
          "metadata": {}
        }
      ]
    },
    {
      "cell_type": "code",
      "source": [
        "train_df['Contents'].count()\n"
      ],
      "metadata": {
        "execution": {
          "iopub.status.busy": "2024-02-17T09:17:53.00692Z",
          "iopub.execute_input": "2024-02-17T09:17:53.007211Z",
          "iopub.status.idle": "2024-02-17T09:17:53.021252Z",
          "shell.execute_reply.started": "2024-02-17T09:17:53.007188Z",
          "shell.execute_reply": "2024-02-17T09:17:53.020209Z"
        },
        "trusted": true,
        "id": "7jXglY-V2iX9",
        "outputId": "03022c6b-9ae2-4852-be06-7284ef8e1017"
      },
      "execution_count": null,
      "outputs": [
        {
          "execution_count": 9,
          "output_type": "execute_result",
          "data": {
            "text/plain": "25549"
          },
          "metadata": {}
        }
      ]
    },
    {
      "cell_type": "code",
      "source": [
        "train_df['IPA'].count()"
      ],
      "metadata": {
        "execution": {
          "iopub.status.busy": "2024-02-17T09:17:53.022829Z",
          "iopub.execute_input": "2024-02-17T09:17:53.023181Z",
          "iopub.status.idle": "2024-02-17T09:17:53.042008Z",
          "shell.execute_reply.started": "2024-02-17T09:17:53.02315Z",
          "shell.execute_reply": "2024-02-17T09:17:53.040967Z"
        },
        "trusted": true,
        "id": "XkjOvsmI2iX9",
        "outputId": "2fcc33ae-1278-4c7c-ed1c-8efa80db71d4"
      },
      "execution_count": null,
      "outputs": [
        {
          "execution_count": 10,
          "output_type": "execute_result",
          "data": {
            "text/plain": "25549"
          },
          "metadata": {}
        }
      ]
    },
    {
      "cell_type": "code",
      "source": [
        "fig, axes = plt.subplots(1, 2, figsize=(15, 5), sharey=True)\n",
        "\n",
        "train_lengths = train_df[\"Contents\"].str.len()\n",
        "sns.histplot(ax=axes[0], data=train_lengths, bins=10).set(xlabel=\"Length of training text samples\")\n",
        "axes[0].axvline(train_lengths.mean(), c=\"k\", ls=\"--\", lw=2.5, label=\"Mean\")\n",
        "axes[0].legend()\n",
        "\n",
        "test_lengths = test_df[\"Contents\"].str.len()\n",
        "sns.histplot(ax=axes[1], data=test_lengths, bins=10).set(xlabel=\"Length of test text samples\")\n",
        "axes[1].axvline(test_lengths.mean(), c=\"k\", ls=\"--\", lw=2.5, label=\"Mean\")\n",
        "axes[1].legend()\n",
        "\n",
        "\n",
        "plt.show()"
      ],
      "metadata": {
        "papermill": {
          "duration": 0.630285,
          "end_time": "2023-10-13T22:53:24.467078",
          "exception": false,
          "start_time": "2023-10-13T22:53:23.836793",
          "status": "completed"
        },
        "tags": [],
        "execution": {
          "iopub.status.busy": "2024-02-17T09:17:53.043297Z",
          "iopub.execute_input": "2024-02-17T09:17:53.043637Z",
          "iopub.status.idle": "2024-02-17T09:17:53.581354Z",
          "shell.execute_reply.started": "2024-02-17T09:17:53.043605Z",
          "shell.execute_reply": "2024-02-17T09:17:53.580334Z"
        },
        "trusted": true,
        "id": "UjInfKYb2iX-",
        "outputId": "6c4b9029-a27e-41de-a5c0-0d4543256f1a"
      },
      "execution_count": null,
      "outputs": [
        {
          "name": "stderr",
          "text": "/opt/conda/lib/python3.10/site-packages/seaborn/_oldcore.py:1119: FutureWarning: use_inf_as_na option is deprecated and will be removed in a future version. Convert inf values to NaN before operating instead.\n  with pd.option_context('mode.use_inf_as_na', True):\n/opt/conda/lib/python3.10/site-packages/seaborn/_oldcore.py:1119: FutureWarning: use_inf_as_na option is deprecated and will be removed in a future version. Convert inf values to NaN before operating instead.\n  with pd.option_context('mode.use_inf_as_na', True):\n",
          "output_type": "stream"
        },
        {
          "output_type": "display_data",
          "data": {
            "text/plain": "<Figure size 1500x500 with 2 Axes>",
            "image/png": "[encoded data removed]"
          },
          "metadata": {}
        }
      ]
    },
    {
      "cell_type": "markdown",
      "source": [
        "Now, let's find out the number of unique words in both training and test data."
      ],
      "metadata": {
        "papermill": {
          "duration": 0.014195,
          "end_time": "2023-10-13T22:53:24.495624",
          "exception": false,
          "start_time": "2023-10-13T22:53:24.481429",
          "status": "completed"
        },
        "tags": [],
        "id": "EtypRQqd2iX-"
      }
    },
    {
      "cell_type": "code",
      "source": [
        "import re\n",
        "\n",
        "train_corpus = train_df[\"Contents\"].sum()\n",
        "test_corpus = test_df[\"Contents\"].sum()\n",
        "\n",
        "# Remove punctuations\n",
        "chars_to_ignore = '[<>]'\n",
        "\n",
        "train_corpus = re.sub(chars_to_ignore, ' ', train_corpus)\n",
        "train_vocab = set(train_corpus.split())\n",
        "\n",
        "test_corpus = re.sub(chars_to_ignore, ' ', test_corpus)\n",
        "test_vocab = set(test_corpus.split())\n",
        "\n",
        "oov = test_vocab - train_vocab\n",
        "\n",
        "print(\"Number of unique words in training data:\", len(train_vocab))\n",
        "print(\"Number of unique words in test data:\", len(test_vocab))\n",
        "print(\"Number of out-of-vocabulary (OOV) words:\", len(oov))"
      ],
      "metadata": {
        "papermill": {
          "duration": 17.450177,
          "end_time": "2023-10-13T22:53:41.959791",
          "exception": false,
          "start_time": "2023-10-13T22:53:24.509614",
          "status": "completed"
        },
        "tags": [],
        "execution": {
          "iopub.status.busy": "2024-02-17T09:17:53.585849Z",
          "iopub.execute_input": "2024-02-17T09:17:53.586179Z",
          "iopub.status.idle": "2024-02-17T09:17:55.02523Z",
          "shell.execute_reply.started": "2024-02-17T09:17:53.586136Z",
          "shell.execute_reply": "2024-02-17T09:17:55.023953Z"
        },
        "trusted": true,
        "id": "matFFdEh2iX-",
        "outputId": "76eacb01-dcc6-4869-e5eb-5627b508cc12"
      },
      "execution_count": null,
      "outputs": [
        {
          "name": "stdout",
          "text": "Number of unique words in training data: 42499\nNumber of unique words in test data: 15809\nNumber of out-of-vocabulary (OOV) words: 10881\n",
          "output_type": "stream"
        }
      ]
    },
    {
      "cell_type": "code",
      "source": [
        "# Filtering text samples that contain English alphanumeric values\n",
        "filtered_train = train_df[lambda x: x[\"Contents\"].str.contains(\"[A-Za-z0-9]\")]\n",
        "\n",
        "with pd.option_context('display.max_colwidth', 0):\n",
        "    display(filtered_train.tail(n=10))"
      ],
      "metadata": {
        "papermill": {
          "duration": 0.047946,
          "end_time": "2023-10-13T22:53:42.022307",
          "exception": false,
          "start_time": "2023-10-13T22:53:41.974361",
          "status": "completed"
        },
        "tags": [],
        "execution": {
          "iopub.status.busy": "2024-02-17T09:17:55.026383Z",
          "iopub.execute_input": "2024-02-17T09:17:55.026698Z",
          "iopub.status.idle": "2024-02-17T09:17:55.06462Z",
          "shell.execute_reply.started": "2024-02-17T09:17:55.026672Z",
          "shell.execute_reply": "2024-02-17T09:17:55.063562Z"
        },
        "trusted": true,
        "id": "DPnwwsSf2iX-",
        "outputId": "7ecd9548-f5b7-4b53-f35c-f9f0e61a776b"
      },
      "execution_count": null,
      "outputs": [
        {
          "output_type": "display_data",
          "data": {
            "text/plain": "Empty DataFrame\nColumns: [Index, District, Contents, IPA]\nIndex: []",
            "text/html": "<div>\n<style scoped>\n    .dataframe tbody tr th:only-of-type {\n        vertical-align: middle;\n    }\n\n    .dataframe tbody tr th {\n        vertical-align: top;\n    }\n\n    .dataframe thead th {\n        text-align: right;\n    }\n</style>\n<table border=\"1\" class=\"dataframe\">\n  <thead>\n    <tr style=\"text-align: right;\">\n      <th></th>\n      <th>Index</th>\n      <th>District</th>\n      <th>Contents</th>\n      <th>IPA</th>\n    </tr>\n  </thead>\n  <tbody>\n  </tbody>\n</table>\n</div>"
          },
          "metadata": {}
        }
      ]
    },
    {
      "cell_type": "code",
      "source": [
        "bangla_numerals = \"[০১২৩৪৫৬৭৮৯]\"\n",
        "\n",
        "filtered_train = train_df[lambda x: x[\"Contents\"].str.contains(bangla_numerals)]\n",
        "filtered_test = test_df[lambda x: x[\"Contents\"].str.contains(bangla_numerals)]\n",
        "\n",
        "print(\"Number of training samples containing Bangla numerals:\", len(filtered_train))\n",
        "print(\"Number of test samples containing Bangla numerals:\", len(filtered_test))"
      ],
      "metadata": {
        "papermill": {
          "duration": 0.061929,
          "end_time": "2023-10-13T22:53:42.098564",
          "exception": false,
          "start_time": "2023-10-13T22:53:42.036635",
          "status": "completed"
        },
        "tags": [],
        "execution": {
          "iopub.status.busy": "2024-02-17T09:17:55.065925Z",
          "iopub.execute_input": "2024-02-17T09:17:55.066302Z",
          "iopub.status.idle": "2024-02-17T09:17:55.115178Z",
          "shell.execute_reply.started": "2024-02-17T09:17:55.066276Z",
          "shell.execute_reply": "2024-02-17T09:17:55.114166Z"
        },
        "trusted": true,
        "id": "m9ce_lP02iX-",
        "outputId": "136c4eb9-0120-4dc2-aa6c-55176c716733"
      },
      "execution_count": null,
      "outputs": [
        {
          "name": "stdout",
          "text": "Number of training samples containing Bangla numerals: 2\nNumber of test samples containing Bangla numerals: 2\n",
          "output_type": "stream"
        }
      ]
    },
    {
      "cell_type": "markdown",
      "source": [
        "## Key Takeaways\n",
        "\n",
        "- **More than 50%** of the words in the test data are out of vocabulary (OOV).\n",
        "- **English alphanumeric values** are simply **ignored** in IPA transcription.\n",
        "- **Almost 30% of the test samples** contain Bengali numerals (সংখ্যা), while such samples are not found in the training set."
      ],
      "metadata": {
        "papermill": {
          "duration": 0.014593,
          "end_time": "2023-10-13T22:53:42.127759",
          "exception": false,
          "start_time": "2023-10-13T22:53:42.113166",
          "status": "completed"
        },
        "tags": [],
        "id": "QTpfPNut2iX-"
      }
    },
    {
      "cell_type": "markdown",
      "source": [
        "# Training"
      ],
      "metadata": {
        "papermill": {
          "duration": 0.014676,
          "end_time": "2023-10-13T22:53:42.156752",
          "exception": false,
          "start_time": "2023-10-13T22:53:42.142076",
          "status": "completed"
        },
        "tags": [],
        "id": "KEWRXGat2iX-"
      }
    },
    {
      "cell_type": "markdown",
      "source": [
        "We can frame our problem as a text-to-text generation challenge. Therefore, we can employ any text-to-text models suitable for our task. For this project, we have chosen to use [mT5: A massively multilingual pre-trained text-to-text transformer](https://arxiv.org/abs/2010.11934) and fine-tune it on our dataset. However, feel free to explore and experiment with other text-to-text models that you find suitable. Another alternative is [BanglaT5](https://huggingface.co/csebuetnlp/banglat5) developed by the **BUET CSE NLP Group**."
      ],
      "metadata": {
        "papermill": {
          "duration": 0.014473,
          "end_time": "2023-10-13T22:53:42.185341",
          "exception": false,
          "start_time": "2023-10-13T22:53:42.170868",
          "status": "completed"
        },
        "tags": [],
        "id": "56lacWDm2iX_"
      }
    },
    {
      "cell_type": "code",
      "source": [
        "# For calculating WER (Word Error Rate)\n",
        "! pip install jiwer"
      ],
      "metadata": {
        "_kg_hide-output": true,
        "papermill": {
          "duration": 10.010175,
          "end_time": "2023-10-13T22:53:52.209675",
          "exception": false,
          "start_time": "2023-10-13T22:53:42.1995",
          "status": "completed"
        },
        "tags": [],
        "execution": {
          "iopub.status.busy": "2024-02-17T09:17:55.116621Z",
          "iopub.execute_input": "2024-02-17T09:17:55.116964Z",
          "iopub.status.idle": "2024-02-17T09:18:08.780347Z",
          "shell.execute_reply.started": "2024-02-17T09:17:55.116936Z",
          "shell.execute_reply": "2024-02-17T09:18:08.779197Z"
        },
        "trusted": true,
        "id": "wBN0hwYX2iX_",
        "outputId": "5b33bee2-fc94-45ab-d941-9fe20f0e01dc"
      },
      "execution_count": null,
      "outputs": [
        {
          "name": "stdout",
          "text": "Collecting jiwer\n  Downloading jiwer-3.0.3-py3-none-any.whl.metadata (2.6 kB)\nRequirement already satisfied: click<9.0.0,>=8.1.3 in /opt/conda/lib/python3.10/site-packages (from jiwer) (8.1.7)\nRequirement already satisfied: rapidfuzz<4,>=3 in /opt/conda/lib/python3.10/site-packages (from jiwer) (3.6.1)\nDownloading jiwer-3.0.3-py3-none-any.whl (21 kB)\nInstalling collected packages: jiwer\nSuccessfully installed jiwer-3.0.3\n",
          "output_type": "stream"
        }
      ]
    },
    {
      "cell_type": "code",
      "source": [
        "# Remove English alphanumeric values\n",
        "alpha_pat = \"[a-zA-z0-9]\"\n",
        "\n",
        "train_df[\"Contents\"] = train_df[\"Contents\"].str.replace(alpha_pat, \"\", regex=True)\n",
        "test_df[\"Contents\"] = test_df[\"Contents\"].str.replace(alpha_pat, \"\", regex=True)"
      ],
      "metadata": {
        "papermill": {
          "duration": 0.094006,
          "end_time": "2023-10-13T22:53:52.319067",
          "exception": false,
          "start_time": "2023-10-13T22:53:52.225061",
          "status": "completed"
        },
        "tags": [],
        "execution": {
          "iopub.status.busy": "2024-02-17T09:28:54.493278Z",
          "iopub.status.idle": "2024-02-17T09:28:54.493618Z",
          "shell.execute_reply.started": "2024-02-17T09:28:54.493455Z",
          "shell.execute_reply": "2024-02-17T09:28:54.493469Z"
        },
        "trusted": true,
        "id": "502mK6t-2iX_"
      },
      "execution_count": null,
      "outputs": []
    },
    {
      "cell_type": "code",
      "source": [
        "import pandas as pd\n",
        "from sklearn.model_selection import train_test_split\n",
        "\n",
        "train_df, val_df = train_test_split(train_df, test_size=0.1, shuffle=True, random_state=3000)\n",
        "train_df = train_df.reset_index(drop=True)\n",
        "val_df = val_df.reset_index(drop=True)"
      ],
      "metadata": {
        "papermill": {
          "duration": 0.255061,
          "end_time": "2023-10-13T22:53:52.588663",
          "exception": false,
          "start_time": "2023-10-13T22:53:52.333602",
          "status": "completed"
        },
        "tags": [],
        "execution": {
          "iopub.status.busy": "2024-02-17T09:18:08.84336Z",
          "iopub.execute_input": "2024-02-17T09:18:08.843682Z",
          "iopub.status.idle": "2024-02-17T09:18:09.026058Z",
          "shell.execute_reply.started": "2024-02-17T09:18:08.843656Z",
          "shell.execute_reply": "2024-02-17T09:18:09.025003Z"
        },
        "trusted": true,
        "id": "Prg0Z1L72iX_"
      },
      "execution_count": null,
      "outputs": []
    },
    {
      "cell_type": "code",
      "source": [
        "from datasets import Dataset\n",
        "\n",
        "ds_train = Dataset.from_pandas(train_df)\n",
        "ds_eval = Dataset.from_pandas(val_df)"
      ],
      "metadata": {
        "papermill": {
          "duration": 0.792036,
          "end_time": "2023-10-13T22:53:53.395981",
          "exception": false,
          "start_time": "2023-10-13T22:53:52.603945",
          "status": "completed"
        },
        "tags": [],
        "execution": {
          "iopub.status.busy": "2024-02-17T09:18:09.027277Z",
          "iopub.execute_input": "2024-02-17T09:18:09.027974Z",
          "iopub.status.idle": "2024-02-17T09:18:10.207713Z",
          "shell.execute_reply.started": "2024-02-17T09:18:09.027945Z",
          "shell.execute_reply": "2024-02-17T09:18:10.206861Z"
        },
        "trusted": true,
        "id": "C8gRI9hh2iX_"
      },
      "execution_count": null,
      "outputs": []
    },
    {
      "cell_type": "code",
      "source": [
        "!pip install --upgrade tensorflow-gpu\n",
        "!pip install --upgrade cupy-cuda11x"
      ],
      "metadata": {
        "execution": {
          "iopub.status.busy": "2024-02-17T09:18:10.20883Z",
          "iopub.execute_input": "2024-02-17T09:18:10.209293Z",
          "iopub.status.idle": "2024-02-17T09:18:35.434607Z",
          "shell.execute_reply.started": "2024-02-17T09:18:10.209267Z",
          "shell.execute_reply": "2024-02-17T09:18:35.433567Z"
        },
        "trusted": true,
        "id": "Ld1P3Qcu2iX_",
        "outputId": "f2f49aad-58b2-4394-e0e5-b5971f05bda2"
      },
      "execution_count": null,
      "outputs": [
        {
          "name": "stdout",
          "text": "Collecting tensorflow-gpu\n  Downloading tensorflow-gpu-2.12.0.tar.gz (2.6 kB)\n  Preparing metadata (setup.py) ... \u001b[?25lerror\n  \u001b[1;31merror\u001b[0m: \u001b[1msubprocess-exited-with-error\u001b[0m\n  \n  \u001b[31m×\u001b[0m \u001b[32mpython setup.py egg_info\u001b[0m did not run successfully.\n  \u001b[31m│\u001b[0m exit code: \u001b[1;36m1\u001b[0m\n  \u001b[31m╰─>\u001b[0m \u001b[31m[39 lines of output]\u001b[0m\n  \u001b[31m   \u001b[0m Traceback (most recent call last):\n  \u001b[31m   \u001b[0m   File \"/opt/conda/lib/python3.10/site-packages/setuptools/_vendor/packaging/requirements.py\", line 35, in __init__\n  \u001b[31m   \u001b[0m     parsed = _parse_requirement(requirement_string)\n  \u001b[31m   \u001b[0m   File \"/opt/conda/lib/python3.10/site-packages/setuptools/_vendor/packaging/_parser.py\", line 64, in parse_requirement\n  \u001b[31m   \u001b[0m     return _parse_requirement(Tokenizer(source, rules=DEFAULT_RULES))\n  \u001b[31m   \u001b[0m   File \"/opt/conda/lib/python3.10/site-packages/setuptools/_vendor/packaging/_parser.py\", line 82, in _parse_requirement\n  \u001b[31m   \u001b[0m     url, specifier, marker = _parse_requirement_details(tokenizer)\n  \u001b[31m   \u001b[0m   File \"/opt/conda/lib/python3.10/site-packages/setuptools/_vendor/packaging/_parser.py\", line 126, in _parse_requirement_details\n  \u001b[31m   \u001b[0m     marker = _parse_requirement_marker(\n  \u001b[31m   \u001b[0m   File \"/opt/conda/lib/python3.10/site-packages/setuptools/_vendor/packaging/_parser.py\", line 147, in _parse_requirement_marker\n  \u001b[31m   \u001b[0m     tokenizer.raise_syntax_error(\n  \u001b[31m   \u001b[0m   File \"/opt/conda/lib/python3.10/site-packages/setuptools/_vendor/packaging/_tokenizer.py\", line 165, in raise_syntax_error\n  \u001b[31m   \u001b[0m     raise ParserSyntaxError(\n  \u001b[31m   \u001b[0m setuptools.extern.packaging._tokenizer.ParserSyntaxError: Expected end or semicolon (after name and no valid version specifier)\n  \u001b[31m   \u001b[0m     python_version>\"3.7\"\n  \u001b[31m   \u001b[0m                   ^\n  \u001b[31m   \u001b[0m \n  \u001b[31m   \u001b[0m The above exception was the direct cause of the following exception:\n  \u001b[31m   \u001b[0m \n  \u001b[31m   \u001b[0m Traceback (most recent call last):\n  \u001b[31m   \u001b[0m   File \"<string>\", line 2, in <module>\n  \u001b[31m   \u001b[0m   File \"<pip-setuptools-caller>\", line 34, in <module>\n  \u001b[31m   \u001b[0m   File \"/tmp/pip-install-4ozvbo_o/tensorflow-gpu_2eb42005a34d4c739a0ba7f03094bc38/setup.py\", line 40, in <module>\n  \u001b[31m   \u001b[0m     setuptools.setup()\n  \u001b[31m   \u001b[0m   File \"/opt/conda/lib/python3.10/site-packages/setuptools/__init__.py\", line 102, in setup\n  \u001b[31m   \u001b[0m     _install_setup_requires(attrs)\n  \u001b[31m   \u001b[0m   File \"/opt/conda/lib/python3.10/site-packages/setuptools/__init__.py\", line 73, in _install_setup_requires\n  \u001b[31m   \u001b[0m     dist.parse_config_files(ignore_option_errors=True)\n  \u001b[31m   \u001b[0m   File \"/opt/conda/lib/python3.10/site-packages/setuptools/dist.py\", line 629, in parse_config_files\n  \u001b[31m   \u001b[0m     self._finalize_requires()\n  \u001b[31m   \u001b[0m   File \"/opt/conda/lib/python3.10/site-packages/setuptools/dist.py\", line 364, in _finalize_requires\n  \u001b[31m   \u001b[0m     self._normalize_requires()\n  \u001b[31m   \u001b[0m   File \"/opt/conda/lib/python3.10/site-packages/setuptools/dist.py\", line 379, in _normalize_requires\n  \u001b[31m   \u001b[0m     self.install_requires = list(map(str, _reqs.parse(install_requires)))\n  \u001b[31m   \u001b[0m   File \"/opt/conda/lib/python3.10/site-packages/setuptools/_vendor/packaging/requirements.py\", line 37, in __init__\n  \u001b[31m   \u001b[0m     raise InvalidRequirement(str(e)) from e\n  \u001b[31m   \u001b[0m setuptools.extern.packaging.requirements.InvalidRequirement: Expected end or semicolon (after name and no valid version specifier)\n  \u001b[31m   \u001b[0m     python_version>\"3.7\"\n  \u001b[31m   \u001b[0m                   ^\n  \u001b[31m   \u001b[0m \u001b[31m[end of output]\u001b[0m\n  \n  \u001b[1;35mnote\u001b[0m: This error originates from a subprocess, and is likely not a problem with pip.\n\u001b[1;31merror\u001b[0m: \u001b[1mmetadata-generation-failed\u001b[0m\n\n\u001b[31m×\u001b[0m Encountered error while generating package metadata.\n\u001b[31m╰─>\u001b[0m See above for output.\n\n\u001b[1;35mnote\u001b[0m: This is an issue with the package mentioned above, not pip.\n\u001b[1;36mhint\u001b[0m: See above for details.\n\u001b[?25hCollecting cupy-cuda11x\n  Downloading cupy_cuda11x-13.0.0-cp310-cp310-manylinux2014_x86_64.whl.metadata (2.6 kB)\nRequirement already satisfied: numpy<1.29,>=1.22 in /opt/conda/lib/python3.10/site-packages (from cupy-cuda11x) (1.24.4)\nRequirement already satisfied: fastrlock>=0.5 in /opt/conda/lib/python3.10/site-packages (from cupy-cuda11x) (0.8.2)\nDownloading cupy_cuda11x-13.0.0-cp310-cp310-manylinux2014_x86_64.whl (95.3 MB)\n\u001b[2K   \u001b[90m━━━━━━━━━━━━━━━━━━━━━━━━━━━━━━━━━━━━━━━━\u001b[0m \u001b[32m95.3/95.3 MB\u001b[0m \u001b[31m3.6 MB/s\u001b[0m eta \u001b[36m0:00:00\u001b[0m00:01\u001b[0m00:01\u001b[0m0m\n\u001b[?25hInstalling collected packages: cupy-cuda11x\n\u001b[31mERROR: pip's dependency resolver does not currently take into account all the packages that are installed. This behaviour is the source of the following dependency conflicts.\ncudf 23.8.0 requires cubinlinker, which is not installed.\ncudf 23.8.0 requires ptxcompiler, which is not installed.\ncudf 23.8.0 requires cuda-python<12.0a0,>=11.7.1, but you have cuda-python 12.3.0 which is incompatible.\ncudf 23.8.0 requires pandas<1.6.0dev0,>=1.3, but you have pandas 2.1.4 which is incompatible.\ncudf 23.8.0 requires protobuf<5,>=4.21, but you have protobuf 3.20.3 which is incompatible.\ncuml 23.8.0 requires dask==2023.7.1, but you have dask 2024.1.0 which is incompatible.\ncuml 23.8.0 requires distributed==2023.7.1, but you have distributed 2024.1.0 which is incompatible.\ndask-cudf 23.8.0 requires dask==2023.7.1, but you have dask 2024.1.0 which is incompatible.\ndask-cudf 23.8.0 requires distributed==2023.7.1, but you have distributed 2024.1.0 which is incompatible.\ndask-cudf 23.8.0 requires pandas<1.6.0dev0,>=1.3, but you have pandas 2.1.4 which is incompatible.\u001b[0m\u001b[31m\n\u001b[0mSuccessfully installed cupy-cuda11x-13.0.0\n",
          "output_type": "stream"
        }
      ]
    },
    {
      "cell_type": "code",
      "source": [
        "from transformers import AutoTokenizer, AutoModelForSeq2SeqLM, DataCollatorForSeq2Seq\n",
        "\n",
        "model_id = \"google/mt5-small\"\n",
        "tokenizer = AutoTokenizer.from_pretrained(model_id)\n",
        "model = AutoModelForSeq2SeqLM.from_pretrained(model_id)\n",
        "data_collator = DataCollatorForSeq2Seq(tokenizer)"
      ],
      "metadata": {
        "papermill": {
          "duration": 24.402426,
          "end_time": "2023-10-13T22:54:17.813406",
          "exception": false,
          "start_time": "2023-10-13T22:53:53.41098",
          "status": "completed"
        },
        "tags": [],
        "execution": {
          "iopub.status.busy": "2024-02-17T09:18:35.436289Z",
          "iopub.execute_input": "2024-02-17T09:18:35.43731Z",
          "iopub.status.idle": "2024-02-17T09:19:20.754077Z",
          "shell.execute_reply.started": "2024-02-17T09:18:35.437269Z",
          "shell.execute_reply": "2024-02-17T09:19:20.753276Z"
        },
        "trusted": true,
        "id": "9FedrqvV2iX_",
        "outputId": "76c1d269-166b-4ecf-d340-79ab32c3f724",
        "colab": {
          "referenced_widgets": [
            "325ddc25984d49d3af510f6ed4a5a854",
            "3c13706c056f4deabbeafa6e258d3ea2",
            "45dc4d2ffe534e9aab5c3faa48850077",
            "dec01f42efaa476c9e03e6265120d672",
            "208577f554684fa1b97140675bbb3445",
            "740ee0fab5704f0d9a7321c842cd5a50"
          ]
        }
      },
      "execution_count": null,
      "outputs": [
        {
          "name": "stderr",
          "text": "2024-02-17 09:18:42.735006: E external/local_xla/xla/stream_executor/cuda/cuda_dnn.cc:9261] Unable to register cuDNN factory: Attempting to register factory for plugin cuDNN when one has already been registered\n2024-02-17 09:18:42.735140: E external/local_xla/xla/stream_executor/cuda/cuda_fft.cc:607] Unable to register cuFFT factory: Attempting to register factory for plugin cuFFT when one has already been registered\n2024-02-17 09:18:42.870399: E external/local_xla/xla/stream_executor/cuda/cuda_blas.cc:1515] Unable to register cuBLAS factory: Attempting to register factory for plugin cuBLAS when one has already been registered\n",
          "output_type": "stream"
        },
        {
          "output_type": "display_data",
          "data": {
            "text/plain": "tokenizer_config.json:   0%|          | 0.00/82.0 [00:00<?, ?B/s]",
            "application/vnd.jupyter.widget-view+json": {
              "version_major": 2,
              "version_minor": 0,
              "model_id": "325ddc25984d49d3af510f6ed4a5a854"
            }
          },
          "metadata": {}
        },
        {
          "output_type": "display_data",
          "data": {
            "text/plain": "config.json:   0%|          | 0.00/553 [00:00<?, ?B/s]",
            "application/vnd.jupyter.widget-view+json": {
              "version_major": 2,
              "version_minor": 0,
              "model_id": "3c13706c056f4deabbeafa6e258d3ea2"
            }
          },
          "metadata": {}
        },
        {
          "output_type": "display_data",
          "data": {
            "text/plain": "spiece.model:   0%|          | 0.00/4.31M [00:00<?, ?B/s]",
            "application/vnd.jupyter.widget-view+json": {
              "version_major": 2,
              "version_minor": 0,
              "model_id": "45dc4d2ffe534e9aab5c3faa48850077"
            }
          },
          "metadata": {}
        },
        {
          "output_type": "display_data",
          "data": {
            "text/plain": "special_tokens_map.json:   0%|          | 0.00/99.0 [00:00<?, ?B/s]",
            "application/vnd.jupyter.widget-view+json": {
              "version_major": 2,
              "version_minor": 0,
              "model_id": "dec01f42efaa476c9e03e6265120d672"
            }
          },
          "metadata": {}
        },
        {
          "name": "stderr",
          "text": "You are using the default legacy behaviour of the <class 'transformers.models.t5.tokenization_t5.T5Tokenizer'>. This is expected, and simply means that the `legacy` (previous) behavior will be used so nothing changes for you. If you want to use the new behaviour, set `legacy=False`. This should only be set if you understand what it means, and thoroughly read the reason why this was added as explained in https://github.com/huggingface/transformers/pull/24565\n/opt/conda/lib/python3.10/site-packages/transformers/convert_slow_tokenizer.py:515: UserWarning: The sentencepiece tokenizer that you are converting to a fast tokenizer uses the byte fallback option which is not implemented in the fast tokenizers. In practice this means that the fast version of the tokenizer can produce unknown tokens whereas the sentencepiece version would have converted these unknown tokens into a sequence of byte tokens matching the original piece of text.\n  warnings.warn(\n",
          "output_type": "stream"
        },
        {
          "output_type": "display_data",
          "data": {
            "text/plain": "pytorch_model.bin:   0%|          | 0.00/1.20G [00:00<?, ?B/s]",
            "application/vnd.jupyter.widget-view+json": {
              "version_major": 2,
              "version_minor": 0,
              "model_id": "208577f554684fa1b97140675bbb3445"
            }
          },
          "metadata": {}
        },
        {
          "name": "stderr",
          "text": "/opt/conda/lib/python3.10/site-packages/torch/_utils.py:831: UserWarning: TypedStorage is deprecated. It will be removed in the future and UntypedStorage will be the only storage class. This should only matter to you if you are using storages directly.  To access UntypedStorage directly, use tensor.untyped_storage() instead of tensor.storage()\n  return self.fget.__get__(instance, owner)()\n",
          "output_type": "stream"
        },
        {
          "output_type": "display_data",
          "data": {
            "text/plain": "generation_config.json:   0%|          | 0.00/147 [00:00<?, ?B/s]",
            "application/vnd.jupyter.widget-view+json": {
              "version_major": 2,
              "version_minor": 0,
              "model_id": "740ee0fab5704f0d9a7321c842cd5a50"
            }
          },
          "metadata": {}
        }
      ]
    },
    {
      "cell_type": "code",
      "source": [
        "def prepare_dataset(sample):\n",
        "    output = tokenizer(sample[\"Contents\"])\n",
        "    output[\"labels\"] = tokenizer(sample[\"IPA\"])['input_ids']\n",
        "    output[\"length\"] = len(output[\"labels\"])\n",
        "    #print(output)\n",
        "    return output\n",
        "\n",
        "\n",
        "ds_train = ds_train.map(prepare_dataset, remove_columns=ds_train.column_names)\n",
        "ds_eval = ds_eval.map(prepare_dataset, remove_columns=ds_eval.column_names)"
      ],
      "metadata": {
        "papermill": {
          "duration": 11.349904,
          "end_time": "2023-10-13T22:54:29.179026",
          "exception": false,
          "start_time": "2023-10-13T22:54:17.829122",
          "status": "completed"
        },
        "tags": [],
        "execution": {
          "iopub.status.busy": "2024-02-17T09:19:20.755499Z",
          "iopub.execute_input": "2024-02-17T09:19:20.756728Z",
          "iopub.status.idle": "2024-02-17T09:19:30.005807Z",
          "shell.execute_reply.started": "2024-02-17T09:19:20.756687Z",
          "shell.execute_reply": "2024-02-17T09:19:30.00502Z"
        },
        "trusted": true,
        "id": "AVE6x6yX2iX_",
        "outputId": "ad19474b-6b28-48fe-8f3e-cf5b0121af85",
        "colab": {
          "referenced_widgets": [
            "26fe6d6d451646d7b92beea6bcdaba6b",
            "7d703d8a767d45f7b3b62a56b4b02d8d"
          ]
        }
      },
      "execution_count": null,
      "outputs": [
        {
          "output_type": "display_data",
          "data": {
            "text/plain": "  0%|          | 0/22994 [00:00<?, ?ex/s]",
            "application/vnd.jupyter.widget-view+json": {
              "version_major": 2,
              "version_minor": 0,
              "model_id": "26fe6d6d451646d7b92beea6bcdaba6b"
            }
          },
          "metadata": {}
        },
        {
          "output_type": "display_data",
          "data": {
            "text/plain": "  0%|          | 0/2555 [00:00<?, ?ex/s]",
            "application/vnd.jupyter.widget-view+json": {
              "version_major": 2,
              "version_minor": 0,
              "model_id": "7d703d8a767d45f7b3b62a56b4b02d8d"
            }
          },
          "metadata": {}
        }
      ]
    },
    {
      "cell_type": "code",
      "source": [
        "import numpy as np\n",
        "from datasets import load_metric\n",
        "\n",
        "wer_metric = load_metric(\"wer\")\n",
        "\n",
        "\n",
        "def compute_metrics(eval_preds):\n",
        "    preds, labels = eval_preds\n",
        "\n",
        "    if isinstance(preds, tuple):\n",
        "        preds = preds[0]\n",
        "\n",
        "    preds = np.where(preds != -100, preds, tokenizer.pad_token_id)\n",
        "    decoded_preds = tokenizer.batch_decode(preds, skip_special_tokens=True)\n",
        "\n",
        "    labels = np.where(labels != -100, labels, tokenizer.pad_token_id)\n",
        "    decoded_labels = tokenizer.batch_decode(labels, skip_special_tokens=True)\n",
        "\n",
        "    result = wer_metric.compute(predictions=decoded_preds, references=decoded_labels)\n",
        "    return {\"wer\": result}"
      ],
      "metadata": {
        "papermill": {
          "duration": 0.624433,
          "end_time": "2023-10-13T22:54:29.819323",
          "exception": false,
          "start_time": "2023-10-13T22:54:29.19489",
          "status": "completed"
        },
        "tags": [],
        "execution": {
          "iopub.status.busy": "2024-02-17T09:19:30.006925Z",
          "iopub.execute_input": "2024-02-17T09:19:30.007239Z",
          "iopub.status.idle": "2024-02-17T09:19:31.402246Z",
          "shell.execute_reply.started": "2024-02-17T09:19:30.007215Z",
          "shell.execute_reply": "2024-02-17T09:19:31.401409Z"
        },
        "trusted": true,
        "id": "Bb-l2WoB2iX_",
        "outputId": "a0be7aee-5b8c-4f12-a4cf-16000f5643c7",
        "colab": {
          "referenced_widgets": [
            "0d16e9f186cf4fa9b2934e6063a6e6f1"
          ]
        }
      },
      "execution_count": null,
      "outputs": [
        {
          "output_type": "display_data",
          "data": {
            "text/plain": "Downloading builder script:   0%|          | 0.00/1.90k [00:00<?, ?B/s]",
            "application/vnd.jupyter.widget-view+json": {
              "version_major": 2,
              "version_minor": 0,
              "model_id": "0d16e9f186cf4fa9b2934e6063a6e6f1"
            }
          },
          "metadata": {}
        }
      ]
    },
    {
      "cell_type": "code",
      "source": [
        "from transformers import Seq2SeqTrainer, Seq2SeqTrainingArguments\n",
        "\n",
        "model_id = \"mt5-bangla-text-to-ipa\"\n",
        "\n",
        "training_args = Seq2SeqTrainingArguments(\n",
        "    output_dir=model_id,\n",
        "    group_by_length=True,\n",
        "    length_column_name=\"length\",\n",
        "    per_device_train_batch_size=4,\n",
        "    per_device_eval_batch_size=16,\n",
        "    evaluation_strategy=\"steps\",\n",
        "    metric_for_best_model=\"wer\",\n",
        "    greater_is_better=False,\n",
        "    load_best_model_at_end=True,\n",
        "    num_train_epochs=1,\n",
        "    save_steps=4000,\n",
        "    eval_steps=4000,\n",
        "    logging_steps=4000,\n",
        "    learning_rate=3e-4,\n",
        "    weight_decay=1e-2,\n",
        "    warmup_steps=2000,\n",
        "    save_total_limit=2,\n",
        "    predict_with_generate=True,\n",
        "    generation_max_length=128,\n",
        "    push_to_hub=False,\n",
        "    report_to=\"none\",\n",
        ")"
      ],
      "metadata": {
        "papermill": {
          "duration": 0.118083,
          "end_time": "2023-10-13T22:54:29.953494",
          "exception": false,
          "start_time": "2023-10-13T22:54:29.835411",
          "status": "completed"
        },
        "tags": [],
        "execution": {
          "iopub.status.busy": "2024-02-17T09:19:31.403417Z",
          "iopub.execute_input": "2024-02-17T09:19:31.403758Z",
          "iopub.status.idle": "2024-02-17T09:19:31.471294Z",
          "shell.execute_reply.started": "2024-02-17T09:19:31.403726Z",
          "shell.execute_reply": "2024-02-17T09:19:31.470471Z"
        },
        "trusted": true,
        "id": "vWtozcpx2iYA"
      },
      "execution_count": null,
      "outputs": []
    },
    {
      "cell_type": "code",
      "source": [
        "trainer = Seq2SeqTrainer(\n",
        "    model=model,\n",
        "    tokenizer=tokenizer,\n",
        "    args=training_args,\n",
        "    train_dataset=ds_train,\n",
        "    eval_dataset=ds_eval,\n",
        "    data_collator=data_collator,\n",
        "    compute_metrics=compute_metrics\n",
        ")\n",
        "\n",
        "trainer.train()"
      ],
      "metadata": {
        "papermill": {
          "duration": 9665.520808,
          "end_time": "2023-10-14T01:35:35.490601",
          "exception": false,
          "start_time": "2023-10-13T22:54:29.969793",
          "status": "completed"
        },
        "tags": [],
        "execution": {
          "iopub.status.busy": "2024-02-17T09:19:31.472419Z",
          "iopub.execute_input": "2024-02-17T09:19:31.472717Z",
          "iopub.status.idle": "2024-02-17T09:28:54.475121Z",
          "shell.execute_reply.started": "2024-02-17T09:19:31.472692Z",
          "shell.execute_reply": "2024-02-17T09:28:54.473335Z"
        },
        "trusted": true,
        "id": "89z7y-6c2iYA",
        "outputId": "34a41915-afd8-426c-eb0a-05abdc8b63e1"
      },
      "execution_count": null,
      "outputs": [
        {
          "output_type": "display_data",
          "data": {
            "text/plain": "<IPython.core.display.HTML object>",
            "text/html": "\n    <div>\n      \n      <progress value='4001' max='5749' style='width:300px; height:20px; vertical-align: middle;'></progress>\n      [4001/5749 08:39 < 03:47, 7.70 it/s, Epoch 0.70/1]\n    </div>\n    <table border=\"1\" class=\"dataframe\">\n  <thead>\n <tr style=\"text-align: left;\">\n      <th>Step</th>\n      <th>Training Loss</th>\n      <th>Validation Loss</th>\n    </tr>\n  </thead>\n  <tbody>\n  </tbody>\n</table><p>\n    <div>\n      \n      <progress value='29' max='160' style='width:300px; height:20px; vertical-align: middle;'></progress>\n      [ 29/160 00:35 < 02:47, 0.78 it/s]\n    </div>\n    "
          },
          "metadata": {}
        },
        {
          "name": "stderr",
          "text": "Exception ignored in: <function _xla_gc_callback at 0x7ae24e6bab00>\nTraceback (most recent call last):\n  File \"/opt/conda/lib/python3.10/site-packages/jax/_src/lib/__init__.py\", line 97, in _xla_gc_callback\n    def _xla_gc_callback(*args):\nKeyboardInterrupt: \n\nKeyboardInterrupt\n\n",
          "output_type": "stream"
        }
      ]
    },
    {
      "cell_type": "code",
      "source": [
        "trainer.save_model(model_id)"
      ],
      "metadata": {
        "papermill": {
          "duration": 3.410829,
          "end_time": "2023-10-14T01:35:38.918096",
          "exception": false,
          "start_time": "2023-10-14T01:35:35.507267",
          "status": "completed"
        },
        "tags": [],
        "execution": {
          "iopub.status.busy": "2024-02-17T09:28:54.476028Z",
          "iopub.status.idle": "2024-02-17T09:28:54.476414Z",
          "shell.execute_reply.started": "2024-02-17T09:28:54.476224Z",
          "shell.execute_reply": "2024-02-17T09:28:54.47624Z"
        },
        "trusted": true,
        "id": "xwTDi_i_2iYA"
      },
      "execution_count": null,
      "outputs": []
    },
    {
      "cell_type": "markdown",
      "source": [
        "# Inference"
      ],
      "metadata": {
        "papermill": {
          "duration": 0.015623,
          "end_time": "2023-10-14T01:35:38.950268",
          "exception": false,
          "start_time": "2023-10-14T01:35:38.934645",
          "status": "completed"
        },
        "tags": [],
        "id": "soydI7yE2iYA"
      }
    },
    {
      "cell_type": "code",
      "source": [
        "# Sort by length\n",
        "index = test_df[\"Contents\"].str.len().sort_values(ascending=False).index\n",
        "test_df = test_df.reindex(index)"
      ],
      "metadata": {
        "papermill": {
          "duration": 0.062078,
          "end_time": "2023-10-14T01:35:39.029053",
          "exception": false,
          "start_time": "2023-10-14T01:35:38.966975",
          "status": "completed"
        },
        "tags": [],
        "execution": {
          "iopub.status.busy": "2024-02-17T09:28:54.477612Z",
          "iopub.status.idle": "2024-02-17T09:28:54.477967Z",
          "shell.execute_reply.started": "2024-02-17T09:28:54.477789Z",
          "shell.execute_reply": "2024-02-17T09:28:54.477809Z"
        },
        "trusted": true,
        "id": "P0ak3ESR2iYA"
      },
      "execution_count": null,
      "outputs": []
    },
    {
      "cell_type": "code",
      "source": [
        "from transformers import pipeline\n",
        "\n",
        "pipe = pipeline(\"text2text-generation\", model=model_id, device=0)"
      ],
      "metadata": {
        "papermill": {
          "duration": 10.505279,
          "end_time": "2023-10-14T01:35:49.550285",
          "exception": false,
          "start_time": "2023-10-14T01:35:39.045006",
          "status": "completed"
        },
        "tags": [],
        "execution": {
          "iopub.status.busy": "2024-02-17T09:28:54.480033Z",
          "iopub.status.idle": "2024-02-17T09:28:54.480401Z",
          "shell.execute_reply.started": "2024-02-17T09:28:54.480236Z",
          "shell.execute_reply": "2024-02-17T09:28:54.480251Z"
        },
        "trusted": true,
        "id": "Y0eGqqZt2iYA"
      },
      "execution_count": null,
      "outputs": []
    },
    {
      "cell_type": "code",
      "source": [
        "%%time\n",
        "texts = test_df[\"Contents\"].tolist()\n",
        "ipas = pipe(texts, max_length=128, batch_size=16)\n",
        "ipas = [ipa[\"generated_text\"] for ipa in ipas]"
      ],
      "metadata": {
        "papermill": {
          "duration": 1607.2102,
          "end_time": "2023-10-14T02:02:36.776862",
          "exception": false,
          "start_time": "2023-10-14T01:35:49.566662",
          "status": "completed"
        },
        "tags": [],
        "execution": {
          "iopub.status.busy": "2024-02-17T09:28:54.482221Z",
          "iopub.status.idle": "2024-02-17T09:28:54.482672Z",
          "shell.execute_reply.started": "2024-02-17T09:28:54.48244Z",
          "shell.execute_reply": "2024-02-17T09:28:54.482459Z"
        },
        "trusted": true,
        "id": "Q9A15P3w2iYA"
      },
      "execution_count": null,
      "outputs": []
    },
    {
      "cell_type": "code",
      "source": [
        "test_df[\"IPA\"] = ipas\n",
        "test_df = test_df.sort_index()\n",
        "test_df.head()"
      ],
      "metadata": {
        "papermill": {
          "duration": 0.041589,
          "end_time": "2023-10-14T02:02:36.834377",
          "exception": false,
          "start_time": "2023-10-14T02:02:36.792788",
          "status": "completed"
        },
        "tags": [],
        "execution": {
          "iopub.status.busy": "2024-02-17T09:28:54.484615Z",
          "iopub.status.idle": "2024-02-17T09:28:54.485078Z",
          "shell.execute_reply.started": "2024-02-17T09:28:54.484831Z",
          "shell.execute_reply": "2024-02-17T09:28:54.48485Z"
        },
        "trusted": true,
        "id": "m2I8QYMJ2iYA"
      },
      "execution_count": null,
      "outputs": []
    },
    {
      "cell_type": "code",
      "source": [
        "test_df.to_csv(\"submission.csv\", columns=[\"IPA\"])"
      ],
      "metadata": {
        "papermill": {
          "duration": 0.14656,
          "end_time": "2023-10-14T02:02:36.996635",
          "exception": false,
          "start_time": "2023-10-14T02:02:36.850075",
          "status": "completed"
        },
        "tags": [],
        "execution": {
          "iopub.status.busy": "2024-02-17T09:28:54.486452Z",
          "iopub.status.idle": "2024-02-17T09:28:54.486905Z",
          "shell.execute_reply.started": "2024-02-17T09:28:54.486676Z",
          "shell.execute_reply": "2024-02-17T09:28:54.486695Z"
        },
        "trusted": true,
        "id": "_Rxqsyva2iYA"
      },
      "execution_count": null,
      "outputs": []
    },
    {
      "cell_type": "markdown",
      "source": [
        "# What to do next?"
      ],
      "metadata": {
        "papermill": {
          "duration": 0.016435,
          "end_time": "2023-10-14T02:02:37.029271",
          "exception": false,
          "start_time": "2023-10-14T02:02:37.012836",
          "status": "completed"
        },
        "tags": [],
        "id": "rWf7_BQj2iYB"
      }
    },
    {
      "cell_type": "markdown",
      "source": [
        "Thanks for reading this far. Here is what to do next:\n",
        "\n",
        "- Explore methods for handling out-of-vocabulary (OOV) words.\n",
        "- Investigate strategies for handling Bengali numerals.\n",
        "- Instead of using an encoder-decoder model, try to find ways to solve it simply using an encoder-only model like BERT."
      ],
      "metadata": {
        "papermill": {
          "duration": 0.015958,
          "end_time": "2023-10-14T02:02:37.061611",
          "exception": false,
          "start_time": "2023-10-14T02:02:37.045653",
          "status": "completed"
        },
        "tags": [],
        "id": "EJjbtG6O2iYE"
      }
    }
  ]
}